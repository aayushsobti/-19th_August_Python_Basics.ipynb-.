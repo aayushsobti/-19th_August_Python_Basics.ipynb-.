{
 "cells": [
  {
   "cell_type": "markdown",
   "id": "234a1ce3",
   "metadata": {},
   "source": [
    "Que 1"
   ]
  },
  {
   "cell_type": "code",
   "execution_count": 1,
   "id": "7a502dee",
   "metadata": {},
   "outputs": [
    {
     "name": "stdout",
     "output_type": "stream",
     "text": [
      "2 1\n"
     ]
    }
   ],
   "source": [
    "x=int(1)\n",
    "y=int(2)\n",
    "z=y\n",
    "y=x\n",
    "x=z\n",
    "print(x,y)"
   ]
  },
  {
   "cell_type": "markdown",
   "id": "cbce0441",
   "metadata": {},
   "source": [
    "Que 2"
   ]
  },
  {
   "cell_type": "code",
   "execution_count": 2,
   "id": "3d4beeeb",
   "metadata": {},
   "outputs": [
    {
     "name": "stdout",
     "output_type": "stream",
     "text": [
      "enter lenght5\n",
      "enter breadth5\n",
      "area of rectangle is 25\n"
     ]
    }
   ],
   "source": [
    "l=int(input(\"enter lenght\"))\n",
    "b=int(input(\"enter breadth\"))\n",
    "print(\"area of rectangle is\",l*b )"
   ]
  },
  {
   "cell_type": "markdown",
   "id": "b6943f16",
   "metadata": {},
   "source": [
    "Que 3"
   ]
  },
  {
   "cell_type": "code",
   "execution_count": 3,
   "id": "992037ca",
   "metadata": {},
   "outputs": [
    {
     "name": "stdout",
     "output_type": "stream",
     "text": [
      "Enter temp in Celcius 10\n",
      "temp in farhenite is  50.0\n"
     ]
    }
   ],
   "source": [
    "c=int(input(\"Enter temp in Celcius \"))\n",
    "f=((c*9)/5)+32\n",
    "print(\"temp in farhenite is \",f)"
   ]
  },
  {
   "cell_type": "markdown",
   "id": "15312460",
   "metadata": {},
   "source": [
    "String\n",
    "\n",
    "Que 1"
   ]
  },
  {
   "cell_type": "code",
   "execution_count": 4,
   "id": "eef5fcb6",
   "metadata": {},
   "outputs": [
    {
     "name": "stdout",
     "output_type": "stream",
     "text": [
      "Enter string: aa\n",
      "Length of string is  2\n"
     ]
    }
   ],
   "source": [
    "x=str(input(\"Enter string: \"))\n",
    "print(\"Length of string is \", len(x))"
   ]
  },
  {
   "cell_type": "markdown",
   "id": "a4dbf7fb",
   "metadata": {},
   "source": [
    "Que 2"
   ]
  },
  {
   "cell_type": "code",
   "execution_count": 5,
   "id": "9a3936f6",
   "metadata": {},
   "outputs": [
    {
     "name": "stdout",
     "output_type": "stream",
     "text": [
      "Enter Sentence: aeiou\n",
      "No of vowels in sentence are: 5\n"
     ]
    }
   ],
   "source": [
    "def vowel_count(sentence):\n",
    "    vowels=\"aeiou\"\n",
    "    vowel_count=0\n",
    "    for char in sentence.lower():\n",
    "        if char in vowels:\n",
    "            vowel_count+=1\n",
    "    return vowel_count\n",
    "\n",
    "sentence=input(\"Enter Sentence: \")\n",
    "print(f\"No of vowels in sentence are: {vowel_count(sentence)}\")"
   ]
  },
  {
   "cell_type": "markdown",
   "id": "8b119a74",
   "metadata": {},
   "source": [
    "Que 3"
   ]
  },
  {
   "cell_type": "code",
   "execution_count": 1,
   "id": "fda337bd",
   "metadata": {},
   "outputs": [
    {
     "name": "stdout",
     "output_type": "stream",
     "text": [
      "Hello World\n",
      "dlroW olleH\n"
     ]
    }
   ],
   "source": [
    "x=str(\"Hello World\")\n",
    "print(x[::])\n",
    "print(x[::-1])"
   ]
  },
  {
   "cell_type": "markdown",
   "id": "84415a53",
   "metadata": {},
   "source": [
    "Que 5"
   ]
  },
  {
   "cell_type": "code",
   "execution_count": 7,
   "id": "f35f0c8e",
   "metadata": {},
   "outputs": [
    {
     "name": "stdout",
     "output_type": "stream",
     "text": [
      "String without spaces:  helloWorld\n"
     ]
    }
   ],
   "source": [
    "def remove_spaces(string):\n",
    "    return string.replace(\" \",\"\")\n",
    "x=\"hello World\"\n",
    "print(\"String without spaces: \",remove_spaces(x))"
   ]
  },
  {
   "cell_type": "markdown",
   "id": "5bfa2a75",
   "metadata": {},
   "source": [
    "Que 4\n"
   ]
  },
  {
   "cell_type": "code",
   "execution_count": 9,
   "id": "b4a585a9",
   "metadata": {},
   "outputs": [
    {
     "name": "stdout",
     "output_type": "stream",
     "text": [
      "Enter string: pip\n",
      "Yes\n"
     ]
    }
   ],
   "source": [
    "x=str(input(\"Enter string: \"))\n",
    "if x[::-1]==x:\n",
    "    print(\"Yes\")\n",
    "else:\n",
    "    print(\"No\")"
   ]
  },
  {
   "cell_type": "code",
   "execution_count": null,
   "id": "6bcb6da5",
   "metadata": {},
   "outputs": [],
   "source": []
  }
 ],
 "metadata": {
  "kernelspec": {
   "display_name": "Python 3 (ipykernel)",
   "language": "python",
   "name": "python3"
  },
  "language_info": {
   "codemirror_mode": {
    "name": "ipython",
    "version": 3
   },
   "file_extension": ".py",
   "mimetype": "text/x-python",
   "name": "python",
   "nbconvert_exporter": "python",
   "pygments_lexer": "ipython3",
   "version": "3.9.13"
  }
 },
 "nbformat": 4,
 "nbformat_minor": 5
}
